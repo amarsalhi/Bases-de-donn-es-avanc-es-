def apiToDatabase():
    import pandas as pd 
    import urllib.request
    import json
    import pyodbc
    
    # https://geo.api.gouv.fr/departements/01/communes' pour le département Ain(01)
    
    ch1="https://geo.api.gouv.fr/departements/"
    ch2=input("votre Département : ") # on demande à l'utilisateur de choisir un département. 
    if (len(ch2)==1):#Pour que l api fonctionne il faut que le numéro de département respecte 
        ch2="0"+ch2  #le format /01/, donc on rajoute le 0 de début.
    ch3="/communes"
    url=ch1+ch2+ch3          # On concatine les chaines de caractères afin d'obtenir 
                             #l'URL finale selon le département 
    f= urllib.request.urlopen(url)
    data= f.read().decode("utf-8") #On lit l'API avec la méthode read et l'ncodage UTF-8
    data_dict=json.loads(data) # Mettre les informations dans un dictionnaire 
    dataset = pd.DataFrame(data_dict) # convertir le dictionnaire en dataframe 
   

